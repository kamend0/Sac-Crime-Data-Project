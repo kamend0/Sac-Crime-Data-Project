{
 "cells": [
  {
   "cell_type": "markdown",
   "id": "4f64c69c",
   "metadata": {},
   "source": [
    "<h3>Goals of this project:</h3>\n",
    "<ul>\n",
    "    <li>Create an interactive data dashboard to display criminal activity in the City of Sacramento.</li>\n",
    "    <li>Deploy this interactive dashboard to a simple site via Flask, Heroku(?).</li>\n",
    "    <li>Create a MySQL database to hold a variety of data related to crime (demographic, etc).</li>\n",
    "    <li>Implement a ML algorithm to predict future crime on a day-by-day basis.</li>\n",
    "</ul>\n",
    "Initially was missing the 2018 dataset, but the City of Sacramento pulled through and provided it!\n",
    "\n",
    "Would also like to research factors related to crime (weather?) and incorporate more data based on that. Academic papers, etc."
   ]
  },
  {
   "cell_type": "markdown",
   "id": "2f2e1c13",
   "metadata": {},
   "source": [
    "---"
   ]
  },
  {
   "cell_type": "markdown",
   "id": "e7ce64fb",
   "metadata": {},
   "source": [
    "<h2>Section 1: Importing, Reviewing, & Cleaning Data</h2>"
   ]
  },
  {
   "cell_type": "code",
   "execution_count": 14,
   "id": "b0747b1d",
   "metadata": {},
   "outputs": [
    {
     "name": "stdout",
     "output_type": "stream",
     "text": [
      "Packages imported.\n"
     ]
    }
   ],
   "source": [
    "import pandas as pd\n",
    "import geopandas as gpd\n",
    "import folium\n",
    "import numpy as np\n",
    "import matplotlib.pyplot as plt\n",
    "import shapely as shp\n",
    "import seaborn as sns\n",
    "from folium.plugins import HeatMap\n",
    "\n",
    "print(\"Packages imported.\")"
   ]
  },
  {
   "cell_type": "markdown",
   "id": "b8a590e1",
   "metadata": {},
   "source": [
    "First, pulling in the actual data from their CSV files. Storing them in a list, then putting them all together into one big DataFrame, and dropping unnecessary columns (FID, OBJECTID, Offense_Code, Offense_Ext) and rows (containing NA)."
   ]
  },
  {
   "cell_type": "code",
   "execution_count": 2,
   "id": "c6fa2ffa",
   "metadata": {},
   "outputs": [
    {
     "data": {
      "text/html": [
       "<div>\n",
       "<style scoped>\n",
       "    .dataframe tbody tr th:only-of-type {\n",
       "        vertical-align: middle;\n",
       "    }\n",
       "\n",
       "    .dataframe tbody tr th {\n",
       "        vertical-align: top;\n",
       "    }\n",
       "\n",
       "    .dataframe thead th {\n",
       "        text-align: right;\n",
       "    }\n",
       "</style>\n",
       "<table border=\"1\" class=\"dataframe\">\n",
       "  <thead>\n",
       "    <tr style=\"text-align: right;\">\n",
       "      <th></th>\n",
       "      <th>Record_ID</th>\n",
       "      <th>Offense_Code</th>\n",
       "      <th>Offense_Category</th>\n",
       "      <th>Description</th>\n",
       "      <th>Police_District</th>\n",
       "      <th>Beat</th>\n",
       "      <th>Grid</th>\n",
       "      <th>Occurence_Date</th>\n",
       "    </tr>\n",
       "  </thead>\n",
       "  <tbody>\n",
       "    <tr>\n",
       "      <th>0</th>\n",
       "      <td>1002009</td>\n",
       "      <td>2602</td>\n",
       "      <td>FRAUD</td>\n",
       "      <td>FRAUD-SWINDLE</td>\n",
       "      <td>5</td>\n",
       "      <td>5B</td>\n",
       "      <td>1603</td>\n",
       "      <td>2014/01/07 18:01:59</td>\n",
       "    </tr>\n",
       "    <tr>\n",
       "      <th>1</th>\n",
       "      <td>1000904</td>\n",
       "      <td>2404</td>\n",
       "      <td>STOLEN VEHICLE</td>\n",
       "      <td>10851(A)VC TAKE VEH W/O OWNER</td>\n",
       "      <td>5</td>\n",
       "      <td>5B</td>\n",
       "      <td>1612</td>\n",
       "      <td>2014/01/01 08:29:59</td>\n",
       "    </tr>\n",
       "    <tr>\n",
       "      <th>2</th>\n",
       "      <td>1002013</td>\n",
       "      <td>2202</td>\n",
       "      <td>BURGLARY</td>\n",
       "      <td>459 PC BURG RESIDENCE-FORCE</td>\n",
       "      <td>5</td>\n",
       "      <td>5B</td>\n",
       "      <td>1618</td>\n",
       "      <td>2014/01/06 15:30:00</td>\n",
       "    </tr>\n",
       "    <tr>\n",
       "      <th>3</th>\n",
       "      <td>1002014</td>\n",
       "      <td>2202</td>\n",
       "      <td>BURGLARY</td>\n",
       "      <td>459 PC BURG RESIDENCE-FORCE</td>\n",
       "      <td>2</td>\n",
       "      <td>2B</td>\n",
       "      <td>0537</td>\n",
       "      <td>2014/01/07 05:55:00</td>\n",
       "    </tr>\n",
       "    <tr>\n",
       "      <th>4</th>\n",
       "      <td>1000906</td>\n",
       "      <td>2404</td>\n",
       "      <td>STOLEN VEHICLE</td>\n",
       "      <td>10851(A)VC TAKE VEH W/O OWNER</td>\n",
       "      <td>4</td>\n",
       "      <td>4A</td>\n",
       "      <td>0908</td>\n",
       "      <td>2014/01/01 15:40:00</td>\n",
       "    </tr>\n",
       "    <tr>\n",
       "      <th>5</th>\n",
       "      <td>1002017</td>\n",
       "      <td>2202</td>\n",
       "      <td>BURGLARY</td>\n",
       "      <td>459 PC BURG RESIDENCE-FORCE</td>\n",
       "      <td>2</td>\n",
       "      <td>2B</td>\n",
       "      <td>0537</td>\n",
       "      <td>2014/01/07 00:59:59</td>\n",
       "    </tr>\n",
       "    <tr>\n",
       "      <th>6</th>\n",
       "      <td>1000913</td>\n",
       "      <td>4801</td>\n",
       "      <td>OBSTRUCTING</td>\n",
       "      <td>148(A)(1)PC RESIST PEACE OFFCR</td>\n",
       "      <td>5</td>\n",
       "      <td>5C</td>\n",
       "      <td>1635</td>\n",
       "      <td>2014/01/01 09:01:59</td>\n",
       "    </tr>\n",
       "    <tr>\n",
       "      <th>7</th>\n",
       "      <td>1002018</td>\n",
       "      <td>2399</td>\n",
       "      <td>LARCENY</td>\n",
       "      <td>368(D) THEFT-ELDER &gt;$950</td>\n",
       "      <td>2</td>\n",
       "      <td>2A</td>\n",
       "      <td>0516</td>\n",
       "      <td>2014/01/07 18:36:59</td>\n",
       "    </tr>\n",
       "    <tr>\n",
       "      <th>8</th>\n",
       "      <td>1000926</td>\n",
       "      <td>5404</td>\n",
       "      <td>TRAFFIC</td>\n",
       "      <td>23152(A) DUI ALCOHOL</td>\n",
       "      <td>2</td>\n",
       "      <td>2C</td>\n",
       "      <td>0623</td>\n",
       "      <td>2014/01/01 10:25:00</td>\n",
       "    </tr>\n",
       "    <tr>\n",
       "      <th>9</th>\n",
       "      <td>1002032</td>\n",
       "      <td>2404</td>\n",
       "      <td>STOLEN VEHICLE</td>\n",
       "      <td>10851(A)VC TAKE VEH W/O OWNER</td>\n",
       "      <td>3</td>\n",
       "      <td>3M</td>\n",
       "      <td>0745</td>\n",
       "      <td>2014/01/07 06:30:00</td>\n",
       "    </tr>\n",
       "    <tr>\n",
       "      <th>10</th>\n",
       "      <td>1000927</td>\n",
       "      <td>5404</td>\n",
       "      <td>TRAFFIC</td>\n",
       "      <td>23152(A) DUI ALCOHOL</td>\n",
       "      <td>UI</td>\n",
       "      <td>UI</td>\n",
       "      <td>UI</td>\n",
       "      <td>2014/01/01 11:26:00</td>\n",
       "    </tr>\n",
       "    <tr>\n",
       "      <th>11</th>\n",
       "      <td>1002033</td>\n",
       "      <td>2303</td>\n",
       "      <td>LARCENY</td>\n",
       "      <td>487(A) PC GRAND THEFT &gt;$950</td>\n",
       "      <td>1</td>\n",
       "      <td>1C</td>\n",
       "      <td>0428</td>\n",
       "      <td>2014/01/07 20:28:00</td>\n",
       "    </tr>\n",
       "    <tr>\n",
       "      <th>12</th>\n",
       "      <td>1000928</td>\n",
       "      <td>5311</td>\n",
       "      <td>DISORDERLY</td>\n",
       "      <td>647(F) PC PUB INTOX-DETOX ONLY</td>\n",
       "      <td>3</td>\n",
       "      <td>3A</td>\n",
       "      <td>0732</td>\n",
       "      <td>2014/01/01 12:33:59</td>\n",
       "    </tr>\n",
       "    <tr>\n",
       "      <th>13</th>\n",
       "      <td>1002034</td>\n",
       "      <td>5404</td>\n",
       "      <td>TRAFFIC</td>\n",
       "      <td>23152(A) DUI ALCOHOL</td>\n",
       "      <td>3</td>\n",
       "      <td>3M</td>\n",
       "      <td>0734</td>\n",
       "      <td>2014/01/06 07:31:00</td>\n",
       "    </tr>\n",
       "    <tr>\n",
       "      <th>14</th>\n",
       "      <td>1000931</td>\n",
       "      <td>3532</td>\n",
       "      <td>DANGEROUS DRUG</td>\n",
       "      <td>11350(A)HS POSS CNTRL SUBST</td>\n",
       "      <td>6</td>\n",
       "      <td>6A</td>\n",
       "      <td>1053</td>\n",
       "      <td>2014/01/01 17:23:59</td>\n",
       "    </tr>\n",
       "  </tbody>\n",
       "</table>\n",
       "</div>"
      ],
      "text/plain": [
       "    Record_ID  Offense_Code Offense_Category                     Description  \\\n",
       "0     1002009          2602            FRAUD                   FRAUD-SWINDLE   \n",
       "1     1000904          2404   STOLEN VEHICLE   10851(A)VC TAKE VEH W/O OWNER   \n",
       "2     1002013          2202         BURGLARY     459 PC BURG RESIDENCE-FORCE   \n",
       "3     1002014          2202         BURGLARY     459 PC BURG RESIDENCE-FORCE   \n",
       "4     1000906          2404   STOLEN VEHICLE   10851(A)VC TAKE VEH W/O OWNER   \n",
       "5     1002017          2202         BURGLARY     459 PC BURG RESIDENCE-FORCE   \n",
       "6     1000913          4801      OBSTRUCTING  148(A)(1)PC RESIST PEACE OFFCR   \n",
       "7     1002018          2399          LARCENY        368(D) THEFT-ELDER >$950   \n",
       "8     1000926          5404          TRAFFIC            23152(A) DUI ALCOHOL   \n",
       "9     1002032          2404   STOLEN VEHICLE   10851(A)VC TAKE VEH W/O OWNER   \n",
       "10    1000927          5404          TRAFFIC            23152(A) DUI ALCOHOL   \n",
       "11    1002033          2303          LARCENY     487(A) PC GRAND THEFT >$950   \n",
       "12    1000928          5311       DISORDERLY  647(F) PC PUB INTOX-DETOX ONLY   \n",
       "13    1002034          5404          TRAFFIC            23152(A) DUI ALCOHOL   \n",
       "14    1000931          3532   DANGEROUS DRUG     11350(A)HS POSS CNTRL SUBST   \n",
       "\n",
       "   Police_District Beat  Grid       Occurence_Date  \n",
       "0                5   5B  1603  2014/01/07 18:01:59  \n",
       "1                5   5B  1612  2014/01/01 08:29:59  \n",
       "2                5   5B  1618  2014/01/06 15:30:00  \n",
       "3                2   2B  0537  2014/01/07 05:55:00  \n",
       "4                4   4A  0908  2014/01/01 15:40:00  \n",
       "5                2   2B  0537  2014/01/07 00:59:59  \n",
       "6                5   5C  1635  2014/01/01 09:01:59  \n",
       "7                2   2A  0516  2014/01/07 18:36:59  \n",
       "8                2   2C  0623  2014/01/01 10:25:00  \n",
       "9                3   3M  0745  2014/01/07 06:30:00  \n",
       "10              UI   UI    UI  2014/01/01 11:26:00  \n",
       "11               1   1C  0428  2014/01/07 20:28:00  \n",
       "12               3   3A  0732  2014/01/01 12:33:59  \n",
       "13               3   3M  0734  2014/01/06 07:31:00  \n",
       "14               6   6A  1053  2014/01/01 17:23:59  "
      ]
     },
     "execution_count": 2,
     "metadata": {},
     "output_type": "execute_result"
    }
   ],
   "source": [
    "allDataByYear = []\n",
    "for year in range(2014, 2022):\n",
    "    filename = 'CrimeData/' + str(year) + 'data.csv'\n",
    "    data = pd.read_csv(filename)\n",
    "    allDataByYear.append(data)\n",
    "    \n",
    "crimeWithNA = pd.concat(allDataByYear)\n",
    "crimeWithNA.drop(['FID', 'OBJECTID', 'Offense_Ext', 'ObjectId'], axis=1, inplace=True) # dropping columns we don't need\n",
    "\n",
    "crime = crimeWithNA.copy()\n",
    "crime.dropna(inplace=True)\n",
    "\n",
    "crime.head(15)"
   ]
  },
  {
   "cell_type": "code",
   "execution_count": 3,
   "id": "aed5626a",
   "metadata": {},
   "outputs": [],
   "source": [
    "crime[['Date', 'Time']] = crime['Occurence_Date'].str.split(' ', expand=True)"
   ]
  },
  {
   "cell_type": "code",
   "execution_count": 4,
   "id": "bb46199a",
   "metadata": {},
   "outputs": [
    {
     "data": {
      "text/html": [
       "<div>\n",
       "<style scoped>\n",
       "    .dataframe tbody tr th:only-of-type {\n",
       "        vertical-align: middle;\n",
       "    }\n",
       "\n",
       "    .dataframe tbody tr th {\n",
       "        vertical-align: top;\n",
       "    }\n",
       "\n",
       "    .dataframe thead th {\n",
       "        text-align: right;\n",
       "    }\n",
       "</style>\n",
       "<table border=\"1\" class=\"dataframe\">\n",
       "  <thead>\n",
       "    <tr style=\"text-align: right;\">\n",
       "      <th></th>\n",
       "      <th>Record_ID</th>\n",
       "      <th>Offense_Code</th>\n",
       "      <th>Offense_Category</th>\n",
       "      <th>Description</th>\n",
       "      <th>Police_District</th>\n",
       "      <th>Beat</th>\n",
       "      <th>Grid</th>\n",
       "      <th>Occurence_Date</th>\n",
       "      <th>Date</th>\n",
       "      <th>Time</th>\n",
       "    </tr>\n",
       "  </thead>\n",
       "  <tbody>\n",
       "    <tr>\n",
       "      <th>0</th>\n",
       "      <td>1002009</td>\n",
       "      <td>2602</td>\n",
       "      <td>FRAUD</td>\n",
       "      <td>FRAUD-SWINDLE</td>\n",
       "      <td>5</td>\n",
       "      <td>5B</td>\n",
       "      <td>1603</td>\n",
       "      <td>2014/01/07 18:01:59</td>\n",
       "      <td>2014/01/07</td>\n",
       "      <td>18:01:59</td>\n",
       "    </tr>\n",
       "    <tr>\n",
       "      <th>1</th>\n",
       "      <td>1000904</td>\n",
       "      <td>2404</td>\n",
       "      <td>STOLEN VEHICLE</td>\n",
       "      <td>10851(A)VC TAKE VEH W/O OWNER</td>\n",
       "      <td>5</td>\n",
       "      <td>5B</td>\n",
       "      <td>1612</td>\n",
       "      <td>2014/01/01 08:29:59</td>\n",
       "      <td>2014/01/01</td>\n",
       "      <td>08:29:59</td>\n",
       "    </tr>\n",
       "    <tr>\n",
       "      <th>2</th>\n",
       "      <td>1002013</td>\n",
       "      <td>2202</td>\n",
       "      <td>BURGLARY</td>\n",
       "      <td>459 PC BURG RESIDENCE-FORCE</td>\n",
       "      <td>5</td>\n",
       "      <td>5B</td>\n",
       "      <td>1618</td>\n",
       "      <td>2014/01/06 15:30:00</td>\n",
       "      <td>2014/01/06</td>\n",
       "      <td>15:30:00</td>\n",
       "    </tr>\n",
       "    <tr>\n",
       "      <th>3</th>\n",
       "      <td>1002014</td>\n",
       "      <td>2202</td>\n",
       "      <td>BURGLARY</td>\n",
       "      <td>459 PC BURG RESIDENCE-FORCE</td>\n",
       "      <td>2</td>\n",
       "      <td>2B</td>\n",
       "      <td>0537</td>\n",
       "      <td>2014/01/07 05:55:00</td>\n",
       "      <td>2014/01/07</td>\n",
       "      <td>05:55:00</td>\n",
       "    </tr>\n",
       "    <tr>\n",
       "      <th>4</th>\n",
       "      <td>1000906</td>\n",
       "      <td>2404</td>\n",
       "      <td>STOLEN VEHICLE</td>\n",
       "      <td>10851(A)VC TAKE VEH W/O OWNER</td>\n",
       "      <td>4</td>\n",
       "      <td>4A</td>\n",
       "      <td>0908</td>\n",
       "      <td>2014/01/01 15:40:00</td>\n",
       "      <td>2014/01/01</td>\n",
       "      <td>15:40:00</td>\n",
       "    </tr>\n",
       "  </tbody>\n",
       "</table>\n",
       "</div>"
      ],
      "text/plain": [
       "   Record_ID  Offense_Code Offense_Category                    Description  \\\n",
       "0    1002009          2602            FRAUD                  FRAUD-SWINDLE   \n",
       "1    1000904          2404   STOLEN VEHICLE  10851(A)VC TAKE VEH W/O OWNER   \n",
       "2    1002013          2202         BURGLARY    459 PC BURG RESIDENCE-FORCE   \n",
       "3    1002014          2202         BURGLARY    459 PC BURG RESIDENCE-FORCE   \n",
       "4    1000906          2404   STOLEN VEHICLE  10851(A)VC TAKE VEH W/O OWNER   \n",
       "\n",
       "  Police_District Beat  Grid       Occurence_Date        Date      Time  \n",
       "0               5   5B  1603  2014/01/07 18:01:59  2014/01/07  18:01:59  \n",
       "1               5   5B  1612  2014/01/01 08:29:59  2014/01/01  08:29:59  \n",
       "2               5   5B  1618  2014/01/06 15:30:00  2014/01/06  15:30:00  \n",
       "3               2   2B  0537  2014/01/07 05:55:00  2014/01/07  05:55:00  \n",
       "4               4   4A  0908  2014/01/01 15:40:00  2014/01/01  15:40:00  "
      ]
     },
     "execution_count": 4,
     "metadata": {},
     "output_type": "execute_result"
    }
   ],
   "source": [
    "crime.head()"
   ]
  },
  {
   "cell_type": "markdown",
   "id": "d6583841",
   "metadata": {},
   "source": [
    "Awesome. I'm comfortable dropping the original column; I'd also like to have the day, month, and year in their own columns just in case. Could be useful.\n",
    "\n",
    "Note: **\"Record_ID\"** column is a good candidate to be the **primary key** once this is put into a SQL database. It's unique throughout all data."
   ]
  },
  {
   "cell_type": "code",
   "execution_count": 36,
   "id": "e7df362d",
   "metadata": {},
   "outputs": [],
   "source": [
    "crime[['Year', 'Month', 'Day']] = crime['Date'].str.split('/',expand=True)\n",
    "crime.Year = crime.Year.astype(int)"
   ]
  },
  {
   "cell_type": "code",
   "execution_count": 37,
   "id": "4881860c",
   "metadata": {},
   "outputs": [
    {
     "data": {
      "text/html": [
       "<div>\n",
       "<style scoped>\n",
       "    .dataframe tbody tr th:only-of-type {\n",
       "        vertical-align: middle;\n",
       "    }\n",
       "\n",
       "    .dataframe tbody tr th {\n",
       "        vertical-align: top;\n",
       "    }\n",
       "\n",
       "    .dataframe thead th {\n",
       "        text-align: right;\n",
       "    }\n",
       "</style>\n",
       "<table border=\"1\" class=\"dataframe\">\n",
       "  <thead>\n",
       "    <tr style=\"text-align: right;\">\n",
       "      <th></th>\n",
       "      <th>Record_ID</th>\n",
       "      <th>Offense_Code</th>\n",
       "      <th>Offense_Category</th>\n",
       "      <th>Description</th>\n",
       "      <th>Police_District</th>\n",
       "      <th>Beat</th>\n",
       "      <th>Grid</th>\n",
       "      <th>Occurence_Date</th>\n",
       "      <th>Date</th>\n",
       "      <th>Time</th>\n",
       "      <th>Year</th>\n",
       "      <th>Month</th>\n",
       "      <th>Day</th>\n",
       "    </tr>\n",
       "  </thead>\n",
       "  <tbody>\n",
       "    <tr>\n",
       "      <th>0</th>\n",
       "      <td>1002009</td>\n",
       "      <td>2602</td>\n",
       "      <td>FRAUD</td>\n",
       "      <td>FRAUD-SWINDLE</td>\n",
       "      <td>5</td>\n",
       "      <td>5B</td>\n",
       "      <td>1603</td>\n",
       "      <td>2014/01/07 18:01:59</td>\n",
       "      <td>2014/01/07</td>\n",
       "      <td>18:01:59</td>\n",
       "      <td>2014</td>\n",
       "      <td>01</td>\n",
       "      <td>07</td>\n",
       "    </tr>\n",
       "    <tr>\n",
       "      <th>1</th>\n",
       "      <td>1000904</td>\n",
       "      <td>2404</td>\n",
       "      <td>STOLEN VEHICLE</td>\n",
       "      <td>10851(A)VC TAKE VEH W/O OWNER</td>\n",
       "      <td>5</td>\n",
       "      <td>5B</td>\n",
       "      <td>1612</td>\n",
       "      <td>2014/01/01 08:29:59</td>\n",
       "      <td>2014/01/01</td>\n",
       "      <td>08:29:59</td>\n",
       "      <td>2014</td>\n",
       "      <td>01</td>\n",
       "      <td>01</td>\n",
       "    </tr>\n",
       "    <tr>\n",
       "      <th>2</th>\n",
       "      <td>1002013</td>\n",
       "      <td>2202</td>\n",
       "      <td>BURGLARY</td>\n",
       "      <td>459 PC BURG RESIDENCE-FORCE</td>\n",
       "      <td>5</td>\n",
       "      <td>5B</td>\n",
       "      <td>1618</td>\n",
       "      <td>2014/01/06 15:30:00</td>\n",
       "      <td>2014/01/06</td>\n",
       "      <td>15:30:00</td>\n",
       "      <td>2014</td>\n",
       "      <td>01</td>\n",
       "      <td>06</td>\n",
       "    </tr>\n",
       "    <tr>\n",
       "      <th>3</th>\n",
       "      <td>1002014</td>\n",
       "      <td>2202</td>\n",
       "      <td>BURGLARY</td>\n",
       "      <td>459 PC BURG RESIDENCE-FORCE</td>\n",
       "      <td>2</td>\n",
       "      <td>2B</td>\n",
       "      <td>0537</td>\n",
       "      <td>2014/01/07 05:55:00</td>\n",
       "      <td>2014/01/07</td>\n",
       "      <td>05:55:00</td>\n",
       "      <td>2014</td>\n",
       "      <td>01</td>\n",
       "      <td>07</td>\n",
       "    </tr>\n",
       "    <tr>\n",
       "      <th>4</th>\n",
       "      <td>1000906</td>\n",
       "      <td>2404</td>\n",
       "      <td>STOLEN VEHICLE</td>\n",
       "      <td>10851(A)VC TAKE VEH W/O OWNER</td>\n",
       "      <td>4</td>\n",
       "      <td>4A</td>\n",
       "      <td>0908</td>\n",
       "      <td>2014/01/01 15:40:00</td>\n",
       "      <td>2014/01/01</td>\n",
       "      <td>15:40:00</td>\n",
       "      <td>2014</td>\n",
       "      <td>01</td>\n",
       "      <td>01</td>\n",
       "    </tr>\n",
       "  </tbody>\n",
       "</table>\n",
       "</div>"
      ],
      "text/plain": [
       "   Record_ID  Offense_Code Offense_Category                    Description  \\\n",
       "0    1002009          2602            FRAUD                  FRAUD-SWINDLE   \n",
       "1    1000904          2404   STOLEN VEHICLE  10851(A)VC TAKE VEH W/O OWNER   \n",
       "2    1002013          2202         BURGLARY    459 PC BURG RESIDENCE-FORCE   \n",
       "3    1002014          2202         BURGLARY    459 PC BURG RESIDENCE-FORCE   \n",
       "4    1000906          2404   STOLEN VEHICLE  10851(A)VC TAKE VEH W/O OWNER   \n",
       "\n",
       "  Police_District Beat  Grid       Occurence_Date        Date      Time  Year  \\\n",
       "0               5   5B  1603  2014/01/07 18:01:59  2014/01/07  18:01:59  2014   \n",
       "1               5   5B  1612  2014/01/01 08:29:59  2014/01/01  08:29:59  2014   \n",
       "2               5   5B  1618  2014/01/06 15:30:00  2014/01/06  15:30:00  2014   \n",
       "3               2   2B  0537  2014/01/07 05:55:00  2014/01/07  05:55:00  2014   \n",
       "4               4   4A  0908  2014/01/01 15:40:00  2014/01/01  15:40:00  2014   \n",
       "\n",
       "  Month Day  \n",
       "0    01  07  \n",
       "1    01  01  \n",
       "2    01  06  \n",
       "3    01  07  \n",
       "4    01  01  "
      ]
     },
     "execution_count": 37,
     "metadata": {},
     "output_type": "execute_result"
    }
   ],
   "source": [
    "crime.head()"
   ]
  },
  {
   "cell_type": "markdown",
   "id": "d1257085",
   "metadata": {},
   "source": [
    "Success! Let's see how many crimes were committed YoY:"
   ]
  },
  {
   "cell_type": "code",
   "execution_count": 38,
   "id": "7c6f24e8",
   "metadata": {},
   "outputs": [
    {
     "name": "stdout",
     "output_type": "stream",
     "text": [
      "2014    38094\n",
      "2015    40248\n",
      "2016    39019\n",
      "2017    37918\n",
      "2018    38097\n",
      "2019    39521\n",
      "2020    35110\n",
      "2021     8912\n",
      "Name: Year, dtype: int64\n"
     ]
    }
   ],
   "source": [
    "yoyCrimes = crime['Year'].value_counts().sort_index(ascending=True)\n",
    "print(yoyCrimes)"
   ]
  },
  {
   "cell_type": "markdown",
   "id": "717109f2",
   "metadata": {},
   "source": [
    "Let's look at this as a line plot, ignoring 2021 as it would be an outlier anyway."
   ]
  },
  {
   "cell_type": "code",
   "execution_count": 39,
   "id": "072a96fa",
   "metadata": {},
   "outputs": [
    {
     "data": {
      "text/plain": [
       "Text(0.5, 1.0, 'No. of Crimes Committed (2014 - 2020)')"
      ]
     },
     "execution_count": 39,
     "metadata": {},
     "output_type": "execute_result"
    },
    {
     "data": {
      "image/png": "[encoded data removed]",
      "text/plain": [
       "<Figure size 432x288 with 1 Axes>"
      ]
     },
     "metadata": {
      "needs_background": "light"
     },
     "output_type": "display_data"
    }
   ],
   "source": [
    "sns.lineplot(data=yoyCrimes[:-1])\n",
    "plt.xlabel(\"Year\")\n",
    "plt.ylabel(\"Number\")\n",
    "plt.title(\"No. of Crimes Committed (2014 - 2020)\")"
   ]
  },
  {
   "cell_type": "markdown",
   "id": "899e42b5",
   "metadata": {},
   "source": [
    "We can see a serious drop in 2020, which is *more than likely* due to the pandemic. It would be interesting to see how 2020 looks by itself. Let's see:"
   ]
  },
  {
   "cell_type": "code",
   "execution_count": 40,
   "id": "30cfd717",
   "metadata": {},
   "outputs": [
    {
     "data": {
      "text/plain": [
       "<AxesSubplot:xlabel='Month', ylabel='Count'>"
      ]
     },
     "execution_count": 40,
     "metadata": {},
     "output_type": "execute_result"
    },
    {
     "data": {
      "image/png": "[encoded data removed]",
      "text/plain": [
       "<Figure size 432x288 with 1 Axes>"
      ]
     },
     "metadata": {
      "needs_background": "light"
     },
     "output_type": "display_data"
    }
   ],
   "source": [
    "sns.histplot(x='Month', data=crime[crime['Year']==2020])"
   ]
  },
  {
   "cell_type": "markdown",
   "id": "4eba0d38",
   "metadata": {},
   "source": [
    "Not as big of a drop-off as I expected to see for March, seeing as though that's when lockdowns began; however, the drop *is* there and it is significant, with the lowest levels in April, before rising again in May. Crime remained low for the rest of the year as well, spiking slightly in October (Halloween?) and December.\n",
    "\n",
    "Question: how does 2020 compare with every other year we have on hand?"
   ]
  },
  {
   "cell_type": "code",
   "execution_count": 41,
   "id": "09601fa4",
   "metadata": {},
   "outputs": [
    {
     "data": {
      "text/plain": [
       "<seaborn.axisgrid.FacetGrid at 0x19580377ca0>"
      ]
     },
     "execution_count": 41,
     "metadata": {},
     "output_type": "execute_result"
    },
    {
     "data": {
      "image/png": "[encoded data removed]",
      "text/plain": [
       "<Figure size 1512x216 with 7 Axes>"
      ]
     },
     "metadata": {
      "needs_background": "light"
     },
     "output_type": "display_data"
    }
   ],
   "source": [
    "g = sns.FacetGrid(crime[crime['Year']!=2021], col=\"Year\")\n",
    "g.map(sns.histplot, \"Month\")"
   ]
  },
  {
   "cell_type": "markdown",
   "id": "dc72be04",
   "metadata": {},
   "source": [
    "Interestingly, there is no obvious pattern from 2014 - 2019 with respect to the month. There actually seems to be an *increase* in crime between January-February and March-April in 2014, 2015, and 2019; approximately no change in 2016 and 2017; and a small *decrease* in 2018.\n",
    "\n",
    "That being said, every year looks about constant compared to 2020; lockdowns clearly had a significant effect on the amount of crimes committed, as both March and April of 2020 were clearly historical lows.\n",
    "\n",
    "To suggest a causal mechanism for this at this point would be opining, but perhaps there's something to be gleaned from looking at the *types* of crimes committed."
   ]
  },
  {
   "cell_type": "markdown",
   "id": "4fad8f78",
   "metadata": {},
   "source": [
    "---"
   ]
  },
  {
   "cell_type": "markdown",
   "id": "99d8f5d7",
   "metadata": {},
   "source": [
    "To start: what are the most commonly committed crimes across all the data we have available? To make it actually readable, let's do the top 10 categories or so."
   ]
  },
  {
   "cell_type": "code",
   "execution_count": 42,
   "id": "32aa86b8",
   "metadata": {},
   "outputs": [
    {
     "data": {
      "text/plain": [
       "Text(0.5, 1.0, 'No. of Crimes Committed by Type (2014 - 2021 YTD)')"
      ]
     },
     "execution_count": 42,
     "metadata": {},
     "output_type": "execute_result"
    },
    {
     "data": {
      "image/png": "[encoded data removed]",
      "text/plain": [
       "<Figure size 432x288 with 1 Axes>"
      ]
     },
     "metadata": {
      "needs_background": "light"
     },
     "output_type": "display_data"
    }
   ],
   "source": [
    "sns.countplot(data=crime, x='Offense_Category', order=crime.Offense_Category.value_counts().iloc[:10].index)\n",
    "plt.xticks(rotation=90)\n",
    "plt.xlabel(\"Type of Offense\")\n",
    "plt.ylabel(\"Number\")\n",
    "plt.title(\"No. of Crimes Committed by Type (2014 - 2021 YTD)\")"
   ]
  },
  {
   "cell_type": "markdown",
   "id": "dedb0b03",
   "metadata": {},
   "source": [
    "Far and away, the three most often committed crimes involve theft and traffic violations, with traffic violations at around twice as common as the next most commonly committed type of crime, vandalism."
   ]
  },
  {
   "cell_type": "markdown",
   "id": "248b5100",
   "metadata": {},
   "source": [
    "Now, let's compare the top categories in 2014 - 2019 versus the top categories in 2020:"
   ]
  },
  {
   "cell_type": "code",
   "execution_count": 43,
   "id": "a4914cd3",
   "metadata": {},
   "outputs": [
    {
     "data": {
      "text/plain": [
       "Text(0.5, 1.0, 'No. of Crimes Committed by Type (2014 - 2019)')"
      ]
     },
     "execution_count": 43,
     "metadata": {},
     "output_type": "execute_result"
    },
    {
     "data": {
      "image/png": "[encoded data removed]",
      "text/plain": [
       "<Figure size 432x288 with 1 Axes>"
      ]
     },
     "metadata": {
      "needs_background": "light"
     },
     "output_type": "display_data"
    }
   ],
   "source": [
    "sns.countplot(data=crime[crime['Year']<2020], x='Offense_Category', order=crime.Offense_Category.value_counts().iloc[:10].index)\n",
    "plt.xticks(rotation=90)\n",
    "plt.xlabel(\"Type of Offense\")\n",
    "plt.ylabel(\"Number\")\n",
    "plt.title(\"No. of Crimes Committed by Type (2014 - 2019)\")"
   ]
  },
  {
   "cell_type": "code",
   "execution_count": 44,
   "id": "e3fecceb",
   "metadata": {},
   "outputs": [
    {
     "data": {
      "text/plain": [
       "Text(0.5, 1.0, 'No. of Crimes Committed by Type (2020 - 2021 YTD)')"
      ]
     },
     "execution_count": 44,
     "metadata": {},
     "output_type": "execute_result"
    },
    {
     "data": {
      "image/png": "[encoded data removed]",
      "text/plain": [
       "<Figure size 432x288 with 1 Axes>"
      ]
     },
     "metadata": {
      "needs_background": "light"
     },
     "output_type": "display_data"
    }
   ],
   "source": [
    "sns.countplot(data=crime[crime['Year']>=2020], x='Offense_Category', order=crime.Offense_Category.value_counts().iloc[:10].index)\n",
    "plt.xticks(rotation=90)\n",
    "plt.xlabel(\"Type of Offense\")\n",
    "plt.ylabel(\"Number\")\n",
    "plt.title(\"No. of Crimes Committed by Type (2020 - 2021 YTD)\")"
   ]
  },
  {
   "cell_type": "markdown",
   "id": "ff48f217",
   "metadata": {},
   "source": [
    "Nope, no change - the types of crimes committed in 2014 - 2019 happened in about the same proportion as they did in 2020 - 2021. The only real change was that vandalism rose in proportion to other crimes; besides that, the distributions look similar. From this, I think it is safe to say that while the pandemic certainly affected the number of crimes committed, it does not seem to have had an effect on the *types* of crimes committed."
   ]
  },
  {
   "cell_type": "markdown",
   "id": "a4ab95cb",
   "metadata": {},
   "source": [
    "---"
   ]
  },
  {
   "cell_type": "markdown",
   "id": "3cfe4c09",
   "metadata": {},
   "source": [
    "Now I'd like to look at whether or not the crime is *violent*. To do this, I'm simplifying things a little and considering the following crimes to be \"violent crimes\": \n",
    "\n",
    "Battery; aggravated assault; robbery; sexual offense; assault; and homicide. \n",
    "\n",
    "I'll create a column that will be 1 if the crime is violent (contained within these categories), and 0 otherwise."
   ]
  },
  {
   "cell_type": "code",
   "execution_count": 46,
   "id": "37e51394",
   "metadata": {
    "scrolled": false
   },
   "outputs": [
    {
     "data": {
      "text/html": [
       "<div>\n",
       "<style scoped>\n",
       "    .dataframe tbody tr th:only-of-type {\n",
       "        vertical-align: middle;\n",
       "    }\n",
       "\n",
       "    .dataframe tbody tr th {\n",
       "        vertical-align: top;\n",
       "    }\n",
       "\n",
       "    .dataframe thead th {\n",
       "        text-align: right;\n",
       "    }\n",
       "</style>\n",
       "<table border=\"1\" class=\"dataframe\">\n",
       "  <thead>\n",
       "    <tr style=\"text-align: right;\">\n",
       "      <th></th>\n",
       "      <th>Record_ID</th>\n",
       "      <th>Offense_Code</th>\n",
       "      <th>Offense_Category</th>\n",
       "      <th>Description</th>\n",
       "      <th>Police_District</th>\n",
       "      <th>Beat</th>\n",
       "      <th>Grid</th>\n",
       "      <th>Occurence_Date</th>\n",
       "      <th>Date</th>\n",
       "      <th>Time</th>\n",
       "      <th>Year</th>\n",
       "      <th>Month</th>\n",
       "      <th>Day</th>\n",
       "      <th>Violent</th>\n",
       "    </tr>\n",
       "  </thead>\n",
       "  <tbody>\n",
       "    <tr>\n",
       "      <th>18712</th>\n",
       "      <td>1465960</td>\n",
       "      <td>1313</td>\n",
       "      <td>ASSAULT</td>\n",
       "      <td>240 PC ASSAULT/SIMPLE-CIVILIAN</td>\n",
       "      <td>3</td>\n",
       "      <td>3M</td>\n",
       "      <td>0741</td>\n",
       "      <td>2020/07/21 17:37:00+00</td>\n",
       "      <td>2020/07/21</td>\n",
       "      <td>17:37:00+00</td>\n",
       "      <td>2020</td>\n",
       "      <td>07</td>\n",
       "      <td>21</td>\n",
       "      <td>1</td>\n",
       "    </tr>\n",
       "    <tr>\n",
       "      <th>5937</th>\n",
       "      <td>1441407</td>\n",
       "      <td>1299</td>\n",
       "      <td>ROBBERY</td>\n",
       "      <td>211 PC ROBBERY-UNSPECIFIED</td>\n",
       "      <td>6</td>\n",
       "      <td>6E</td>\n",
       "      <td>1115</td>\n",
       "      <td>2020/02/28 18:17:00+00</td>\n",
       "      <td>2020/02/28</td>\n",
       "      <td>18:17:00+00</td>\n",
       "      <td>2020</td>\n",
       "      <td>02</td>\n",
       "      <td>28</td>\n",
       "      <td>1</td>\n",
       "    </tr>\n",
       "    <tr>\n",
       "      <th>1821</th>\n",
       "      <td>1499154</td>\n",
       "      <td>1315</td>\n",
       "      <td>AGG ASSAULT</td>\n",
       "      <td>245(A)(2) AWDW-FIREARM</td>\n",
       "      <td>6</td>\n",
       "      <td>6A</td>\n",
       "      <td>1031</td>\n",
       "      <td>2021/01/23 03:56:00+00</td>\n",
       "      <td>2021/01/23</td>\n",
       "      <td>03:56:00+00</td>\n",
       "      <td>2021</td>\n",
       "      <td>01</td>\n",
       "      <td>23</td>\n",
       "      <td>1</td>\n",
       "    </tr>\n",
       "    <tr>\n",
       "      <th>3724</th>\n",
       "      <td>1009238</td>\n",
       "      <td>1315</td>\n",
       "      <td>AGG ASSAULT</td>\n",
       "      <td>245(A)(2) AWDW-FIREARM</td>\n",
       "      <td>5</td>\n",
       "      <td>5C</td>\n",
       "      <td>1606</td>\n",
       "      <td>2014/02/11 04:41:59</td>\n",
       "      <td>2014/02/11</td>\n",
       "      <td>04:41:59</td>\n",
       "      <td>2014</td>\n",
       "      <td>02</td>\n",
       "      <td>11</td>\n",
       "      <td>1</td>\n",
       "    </tr>\n",
       "    <tr>\n",
       "      <th>208</th>\n",
       "      <td>1360342</td>\n",
       "      <td>1313</td>\n",
       "      <td>BATTERY</td>\n",
       "      <td>242 PC BATTERY CIVILIAN</td>\n",
       "      <td>3</td>\n",
       "      <td>3M</td>\n",
       "      <td>0735</td>\n",
       "      <td>2019/01/04 20:30:00+00</td>\n",
       "      <td>2019/01/04</td>\n",
       "      <td>20:30:00+00</td>\n",
       "      <td>2019</td>\n",
       "      <td>01</td>\n",
       "      <td>04</td>\n",
       "      <td>1</td>\n",
       "    </tr>\n",
       "    <tr>\n",
       "      <th>3139</th>\n",
       "      <td>1223530</td>\n",
       "      <td>1315</td>\n",
       "      <td>AGG ASSAULT</td>\n",
       "      <td>245(A)(1)AWDW-NON-FIREARM</td>\n",
       "      <td>1</td>\n",
       "      <td>1B</td>\n",
       "      <td>0444</td>\n",
       "      <td>2017/01/31 20:15:00</td>\n",
       "      <td>2017/01/31</td>\n",
       "      <td>20:15:00</td>\n",
       "      <td>2017</td>\n",
       "      <td>01</td>\n",
       "      <td>31</td>\n",
       "      <td>1</td>\n",
       "    </tr>\n",
       "    <tr>\n",
       "      <th>23160</th>\n",
       "      <td>1189503</td>\n",
       "      <td>1299</td>\n",
       "      <td>ROBBERY</td>\n",
       "      <td>212.5(A)ROBBERY-INHAB DWELLING</td>\n",
       "      <td>4</td>\n",
       "      <td>4C</td>\n",
       "      <td>1282</td>\n",
       "      <td>2016/08/05 07:06:59</td>\n",
       "      <td>2016/08/05</td>\n",
       "      <td>07:06:59</td>\n",
       "      <td>2016</td>\n",
       "      <td>08</td>\n",
       "      <td>05</td>\n",
       "      <td>1</td>\n",
       "    </tr>\n",
       "    <tr>\n",
       "      <th>15961</th>\n",
       "      <td>1176982</td>\n",
       "      <td>1315</td>\n",
       "      <td>AGG ASSAULT</td>\n",
       "      <td>245(A)(1)AWDW-NON-FIREARM</td>\n",
       "      <td>2</td>\n",
       "      <td>2B</td>\n",
       "      <td>0563</td>\n",
       "      <td>2016/05/19 02:32:59</td>\n",
       "      <td>2016/05/19</td>\n",
       "      <td>02:32:59</td>\n",
       "      <td>2016</td>\n",
       "      <td>05</td>\n",
       "      <td>19</td>\n",
       "      <td>1</td>\n",
       "    </tr>\n",
       "    <tr>\n",
       "      <th>15518</th>\n",
       "      <td>1033048</td>\n",
       "      <td>1315</td>\n",
       "      <td>AGG ASSAULT</td>\n",
       "      <td>245(A)(1)AWDW-NON-FIREARM</td>\n",
       "      <td>3</td>\n",
       "      <td>3A</td>\n",
       "      <td>0784</td>\n",
       "      <td>2014/06/02 00:10:00</td>\n",
       "      <td>2014/06/02</td>\n",
       "      <td>00:10:00</td>\n",
       "      <td>2014</td>\n",
       "      <td>06</td>\n",
       "      <td>02</td>\n",
       "      <td>1</td>\n",
       "    </tr>\n",
       "    <tr>\n",
       "      <th>26222</th>\n",
       "      <td>1195429</td>\n",
       "      <td>1299</td>\n",
       "      <td>ROBBERY</td>\n",
       "      <td>211 PC ROBBERY-UNSPECIFIED</td>\n",
       "      <td>3</td>\n",
       "      <td>3A</td>\n",
       "      <td>0705</td>\n",
       "      <td>2016/09/05 21:24:00</td>\n",
       "      <td>2016/09/05</td>\n",
       "      <td>21:24:00</td>\n",
       "      <td>2016</td>\n",
       "      <td>09</td>\n",
       "      <td>05</td>\n",
       "      <td>1</td>\n",
       "    </tr>\n",
       "  </tbody>\n",
       "</table>\n",
       "</div>"
      ],
      "text/plain": [
       "       Record_ID  Offense_Code Offense_Category  \\\n",
       "18712    1465960          1313          ASSAULT   \n",
       "5937     1441407          1299          ROBBERY   \n",
       "1821     1499154          1315      AGG ASSAULT   \n",
       "3724     1009238          1315      AGG ASSAULT   \n",
       "208      1360342          1313          BATTERY   \n",
       "3139     1223530          1315      AGG ASSAULT   \n",
       "23160    1189503          1299          ROBBERY   \n",
       "15961    1176982          1315      AGG ASSAULT   \n",
       "15518    1033048          1315      AGG ASSAULT   \n",
       "26222    1195429          1299          ROBBERY   \n",
       "\n",
       "                          Description Police_District Beat  Grid  \\\n",
       "18712  240 PC ASSAULT/SIMPLE-CIVILIAN               3   3M  0741   \n",
       "5937       211 PC ROBBERY-UNSPECIFIED               6   6E  1115   \n",
       "1821           245(A)(2) AWDW-FIREARM               6   6A  1031   \n",
       "3724           245(A)(2) AWDW-FIREARM               5   5C  1606   \n",
       "208           242 PC BATTERY CIVILIAN               3   3M  0735   \n",
       "3139        245(A)(1)AWDW-NON-FIREARM               1   1B  0444   \n",
       "23160  212.5(A)ROBBERY-INHAB DWELLING               4   4C  1282   \n",
       "15961       245(A)(1)AWDW-NON-FIREARM               2   2B  0563   \n",
       "15518       245(A)(1)AWDW-NON-FIREARM               3   3A  0784   \n",
       "26222      211 PC ROBBERY-UNSPECIFIED               3   3A  0705   \n",
       "\n",
       "               Occurence_Date        Date         Time  Year Month Day  \\\n",
       "18712  2020/07/21 17:37:00+00  2020/07/21  17:37:00+00  2020    07  21   \n",
       "5937   2020/02/28 18:17:00+00  2020/02/28  18:17:00+00  2020    02  28   \n",
       "1821   2021/01/23 03:56:00+00  2021/01/23  03:56:00+00  2021    01  23   \n",
       "3724      2014/02/11 04:41:59  2014/02/11     04:41:59  2014    02  11   \n",
       "208    2019/01/04 20:30:00+00  2019/01/04  20:30:00+00  2019    01  04   \n",
       "3139      2017/01/31 20:15:00  2017/01/31     20:15:00  2017    01  31   \n",
       "23160     2016/08/05 07:06:59  2016/08/05     07:06:59  2016    08  05   \n",
       "15961     2016/05/19 02:32:59  2016/05/19     02:32:59  2016    05  19   \n",
       "15518     2014/06/02 00:10:00  2014/06/02     00:10:00  2014    06  02   \n",
       "26222     2016/09/05 21:24:00  2016/09/05     21:24:00  2016    09  05   \n",
       "\n",
       "       Violent  \n",
       "18712        1  \n",
       "5937         1  \n",
       "1821         1  \n",
       "3724         1  \n",
       "208          1  \n",
       "3139         1  \n",
       "23160        1  \n",
       "15961        1  \n",
       "15518        1  \n",
       "26222        1  "
      ]
     },
     "execution_count": 46,
     "metadata": {},
     "output_type": "execute_result"
    }
   ],
   "source": [
    "violent_crimes = ['BATTERY', 'AGG ASSAULT', 'ROBBERY', 'SEXUAL OFFENSE', 'ASSAULT', 'HOMICIDE']\n",
    "\n",
    "crime['Violent'] = (crime.Offense_Category.isin(violent_crimes)).astype(int)\n",
    "\n",
    "crime[crime['Violent']==1].sample(10) # Example of some violent crimes."
   ]
  },
  {
   "cell_type": "markdown",
   "id": "8e389523",
   "metadata": {},
   "source": [
    "Now, I wonder: did the pandemic cause any noticeable change in the number of *violent* crimes committed? Again, I'm going to exclude 2021 only because we're looking at levels, and since we only have about 3 months of data, it'll skew the plot."
   ]
  },
  {
   "cell_type": "code",
   "execution_count": 47,
   "id": "bb9c2c1e",
   "metadata": {},
   "outputs": [
    {
     "data": {
      "text/plain": [
       "Text(0.5, 1.0, 'No. of Violent Crimes Committed (2014 - 2020)')"
      ]
     },
     "execution_count": 47,
     "metadata": {},
     "output_type": "execute_result"
    },
    {
     "data": {
      "image/png": "[encoded data removed]",
      "text/plain": [
       "<Figure size 432x288 with 1 Axes>"
      ]
     },
     "metadata": {
      "needs_background": "light"
     },
     "output_type": "display_data"
    }
   ],
   "source": [
    "yoyViolentCrimes = crime[crime['Violent']==1]['Year'].value_counts().sort_index(ascending=True)\n",
    "\n",
    "sns.lineplot(data=yoyViolentCrimes[:-1])\n",
    "plt.xlabel(\"Year\")\n",
    "plt.ylabel(\"Number\")\n",
    "plt.title(\"No. of Violent Crimes Committed (2014 - 2020)\")"
   ]
  },
  {
   "cell_type": "markdown",
   "id": "32f8dc36",
   "metadata": {},
   "source": [
    "Woah! Interesting. Let's put this next to the plot of total crimes:"
   ]
  },
  {
   "cell_type": "code",
   "execution_count": 48,
   "id": "3545a98d",
   "metadata": {
    "scrolled": true
   },
   "outputs": [
    {
     "data": {
      "text/plain": [
       "Text(0.5, 1.0, 'No. of Crimes Committed (2014 - 2020)')"
      ]
     },
     "execution_count": 48,
     "metadata": {},
     "output_type": "execute_result"
    },
    {
     "data": {
      "image/png": "[encoded data removed]",
      "text/plain": [
       "<Figure size 432x288 with 1 Axes>"
      ]
     },
     "metadata": {
      "needs_background": "light"
     },
     "output_type": "display_data"
    }
   ],
   "source": [
    "sns.lineplot(data=yoyCrimes[:-1])\n",
    "plt.xlabel(\"Year\")\n",
    "plt.ylabel(\"Number\")\n",
    "plt.title(\"No. of Crimes Committed (2014 - 2020)\")"
   ]
  },
  {
   "cell_type": "markdown",
   "id": "6d19a7c0",
   "metadata": {},
   "source": [
    "The spike in crime in 2015 was in part driven by an increase in violent crime; however, since then, violent crime has been on a steady decline in Sacramento (great!). The drop in crime in 2020 was accompanied by a drop in violent crime; it would take some more statistics to analyze whether or not the drop in violent crime was significant compared to the drop in total crime (e.g., was crime more or less violent in 2020, given that *all* crime dropped significantly?)."
   ]
  },
  {
   "cell_type": "markdown",
   "id": "d8d52d4d",
   "metadata": {},
   "source": [
    "One way we might begin to answer this is by looking at what *percentage* of crimes each year were violent."
   ]
  },
  {
   "cell_type": "code",
   "execution_count": 49,
   "id": "12121a6f",
   "metadata": {},
   "outputs": [
    {
     "name": "stdout",
     "output_type": "stream",
     "text": [
      "2014    8.053762\n",
      "2015    8.360664\n",
      "2016    8.593249\n",
      "2017    8.842766\n",
      "2018    8.764470\n",
      "2019    8.276612\n",
      "2020    8.951866\n",
      "2021    8.853232\n",
      "Name: Year, dtype: float64\n"
     ]
    }
   ],
   "source": [
    "print( (crime[crime['Violent']==1]['Year'].value_counts() / crime['Year'].value_counts()) * 100 )"
   ]
  },
  {
   "cell_type": "markdown",
   "id": "bc3254d1",
   "metadata": {},
   "source": [
    "Wow! As it turns out, the annual proportion of violent crimes to total crimes committed is essentially steady between 8 and 9 percent. I'm very surprised at the consistency of this.\n",
    "\n",
    "We can also see that 2020 was not a good year, actually, as the proportion of violent crimes was highest then than in any previous year. 2021 is seeing a small improvement, but unfortunately is still only second to 2020 in proportion to total crimes committed."
   ]
  },
  {
   "cell_type": "code",
   "execution_count": null,
   "id": "30541db0",
   "metadata": {},
   "outputs": [],
   "source": []
  }
 ],
 "metadata": {
  "kernelspec": {
   "display_name": "Python 3",
   "language": "python",
   "name": "python3"
  },
  "language_info": {
   "codemirror_mode": {
    "name": "ipython",
    "version": 3
   },
   "file_extension": ".py",
   "mimetype": "text/x-python",
   "name": "python",
   "nbconvert_exporter": "python",
   "pygments_lexer": "ipython3",
   "version": "3.9.4"
  }
 },
 "nbformat": 4,
 "nbformat_minor": 5
}
